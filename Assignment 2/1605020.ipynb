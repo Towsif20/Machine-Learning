{
  "cells": [
    {
      "cell_type": "code",
      "execution_count": 1,
      "metadata": {
        "colab": {
          "base_uri": "https://localhost:8080/"
        },
        "id": "wHlzI61eAK2T",
        "outputId": "7e66867f-cd28-4e91-fe55-7b71bbab2851"
      },
      "outputs": [],
      "source": [
        "# from google.colab import drive\n",
        "# drive.mount('/content/gdrive')"
      ]
    },
    {
      "cell_type": "code",
      "execution_count": 2,
      "metadata": {
        "colab": {
          "base_uri": "https://localhost:8080/"
        },
        "id": "tXFYQTyFAQy5",
        "outputId": "25a7ad2f-f3f0-41f6-e87f-92e508c44912"
      },
      "outputs": [],
      "source": [
        "# %cd gdrive/MyDrive/HMM/"
      ]
    },
    {
      "cell_type": "code",
      "execution_count": 3,
      "metadata": {
        "id": "Xny5tNtP_qZz"
      },
      "outputs": [],
      "source": [
        "import numpy as np\n",
        "from scipy.stats import norm\n",
        "import scipy as sp"
      ]
    },
    {
      "cell_type": "code",
      "execution_count": 4,
      "metadata": {
        "id": "qOM4TKv2_qZ4"
      },
      "outputs": [],
      "source": [
        "observations = []\n",
        "N = 0\n",
        "states = []\n",
        "transition_matrix = []\n",
        "emission_matrix = []\n",
        "means = []\n",
        "standard_deviations = []\n",
        "\n"
      ]
    },
    {
      "cell_type": "code",
      "execution_count": 5,
      "metadata": {
        "id": "UQuA_lsf_qZ5"
      },
      "outputs": [],
      "source": [
        "with open('data.txt') as file:\n",
        "    for readline in file:\n",
        "        observations.append(float(readline.strip()))\n",
        "\n",
        "observations = np.array(observations)\n",
        "\n",
        "# print(observations)\n",
        "\n",
        "with open('parameters.txt') as file:\n",
        "    N = int(file.readline())\n",
        "\n",
        "    for i in range(N):\n",
        "        states.append(i)\n",
        "\n",
        "    for i in range(N):\n",
        "        line = file.readline()\n",
        "        temp = []\n",
        "        for w in line.split():\n",
        "            temp.append(float(w.strip()))\n",
        "        \n",
        "        transition_matrix.append(temp)\n",
        "\n",
        "    line = file.readline()\n",
        "    for w in line.split():\n",
        "        means.append(float(w.strip()))\n",
        "\n",
        "    line = file.readline()\n",
        "    for w in line.split():\n",
        "        standard_deviations.append(float(w.strip()))\n",
        "\n",
        "real_states = ['EL Nino', 'La Nina']\n",
        "means = np.array(means)\n",
        "standard_deviations = np.array(standard_deviations)"
      ]
    },
    {
      "cell_type": "code",
      "execution_count": 6,
      "metadata": {
        "id": "lWviG6Ws_qZ6"
      },
      "outputs": [
        {
          "name": "stdout",
          "output_type": "stream",
          "text": [
            "[[-0.31622777]\n",
            " [-0.9486833 ]]\n",
            "[-0.31622777 -0.9486833 ]\n"
          ]
        }
      ],
      "source": [
        "def initial_prob(transition_matrix):\n",
        "    lam, vec = sp.linalg.eig(transition_matrix, left=True, right=False)\n",
        "    # print(lam, vec)\n",
        "    evec1 = vec[:,np.isclose(lam, 1)]\n",
        "    # print(evec1)\n",
        "    evec1 = evec1[:,0]\n",
        "    # print(evec1)\n",
        "    pi = evec1/evec1.sum()\n",
        "    return pi\n",
        "\n",
        "pi = initial_prob(transition_matrix)\n"
      ]
    },
    {
      "cell_type": "code",
      "execution_count": 147,
      "metadata": {
        "id": "uYE-1BZ7_qZ7"
      },
      "outputs": [],
      "source": [
        "def gaussian_distribution(x, mean, std):\n",
        "    p = norm.pdf(x, loc=mean, scale=np.sqrt(std))\n",
        "    if p == 0.0:\n",
        "        p = 1e-323\n",
        "    return p\n",
        "\n",
        "\n",
        "for st in states:\n",
        "    temp = []\n",
        "    for o in observations:\n",
        "        p = gaussian_distribution(o, means[st], standard_deviations[st])\n",
        "        temp.append(p)\n",
        "    \n",
        "    emission_matrix.append(temp)\n"
      ]
    },
    {
      "cell_type": "code",
      "execution_count": 148,
      "metadata": {
        "id": "T92tHC1c_qZ8"
      },
      "outputs": [],
      "source": [
        "def viterbi(observations, states, pi, transition_matrix, emission_matrix):\n",
        "    length = len(observations)\n",
        "    # print(length)\n",
        "    probability_table = np.array([[float(0)]*length]*N)\n",
        "    previous_table = np.array([[-1]*length]*N)\n",
        "\n",
        "    # first entry from stationary probability, without transition\n",
        "    for st in states:\n",
        "        # probability_table[st][0] = np.log(pi[st] * gaussian_distribution(observations[0], means[st], standard_deviations[st]))\n",
        "        probability_table[st][0] = np.log(pi[st] * emission_matrix[st][0])\n",
        "\n",
        "    \n",
        "    for i in range(1, length):\n",
        "        \n",
        "        for current in states:\n",
        "            max_incoming_prob = float('-inf')\n",
        "            prev_selected = -1\n",
        "\n",
        "            for prev in states:\n",
        "                incoming_prob = probability_table[prev][i-1] + np.log(transition_matrix[prev][current])\n",
        "                \n",
        "                if incoming_prob > max_incoming_prob:\n",
        "                    max_incoming_prob = incoming_prob\n",
        "                    prev_selected = prev\n",
        "\n",
        "            \n",
        "            # max_prob = max_incoming_prob + np.log(gaussian_distribution(observations[i], means[current], standard_deviations[current]))\n",
        "            max_prob = max_incoming_prob + np.log(emission_matrix[current][i])\n",
        "\n",
        "            probability_table[current][i] = max_prob\n",
        "            previous_table[current][i] = prev_selected\n",
        "\n",
        "    # print(probability_table)\n",
        "    # print(previous_table)\n",
        "    # print(np.argmax(probability_table))\n",
        "\n",
        "    max = float('-inf')\n",
        "    best = -1\n",
        "\n",
        "    most_likely_seuquence = []\n",
        "    prev = -1\n",
        "\n",
        "    for i in range(N):\n",
        "        if probability_table[i][length-1] > max:\n",
        "            max = probability_table[i][length-1]\n",
        "            best = i\n",
        "\n",
        "    most_likely_seuquence.append(best)\n",
        "    prev = best\n",
        "\n",
        "    # print(probability_table.shape)\n",
        "    for i in range(length-2, -1, -1):\n",
        "        most_likely_seuquence.insert(0, previous_table[prev][i+1])\n",
        "        prev = previous_table[prev][i+1]\n",
        "\n",
        "    # print((most_likely_seuquence))\n",
        "\n",
        "    return most_likely_seuquence\n"
      ]
    },
    {
      "cell_type": "code",
      "execution_count": 149,
      "metadata": {
        "id": "FiuV7eQL_qZ9"
      },
      "outputs": [],
      "source": [
        "c_t = np.array([0.0]*len(observations))\n",
        "\n",
        "def forward_algorithm(transition_matrix, emission_matrix, pi):\n",
        "    length = len(observations)\n",
        "    alpha = np.array([[0.0]*length]*N)\n",
        "\n",
        "    for i in range(N):\n",
        "        alpha[i][0] = pi[i] * emission_matrix[i][0]\n",
        "        # c_t[0] += alpha[i][0]\n",
        "\n",
        "    c_t[0] = 1.0/np.sum(alpha[:, 0])\n",
        "    for i in range(N):\n",
        "        alpha[i][0] *= c_t[0]\n",
        "            \n",
        "\n",
        "    for j in range(1, length):\n",
        "        \n",
        "        for i in range(N):\n",
        "            for k in range(N):\n",
        "                temp = alpha[k][j-1] * transition_matrix[k][i] * emission_matrix[i][j]\n",
        "                alpha[i][j] += temp\n",
        "            \n",
        "            # c_t[j] += alpha[i][j]\n",
        "\n",
        "        c_t[j] = 1.0/np.sum(alpha[:, j])\n",
        "        for i in range(N):\n",
        "            alpha[i][j] *= c_t[j]\n",
        "\n",
        "        # dekho thik ache naki\n",
        "    \n",
        "    \n",
        "    return alpha\n",
        "\n",
        "\n",
        "def backward_algorithm(transition_matrix, emission_matrix):\n",
        "    length = len(observations)\n",
        "    beta = np.array([[0.0]*length]*N)\n",
        "\n",
        "    for i in range(N):\n",
        "        beta[i][length-1] = 1.0\n",
        "\n",
        "    for j in range(length-2, -1, -1):\n",
        "        \n",
        "        for i in range(N):\n",
        "            for k in range(N):\n",
        "                temp = beta[k][j+1] * transition_matrix[i][k] * emission_matrix[k][j+1]\n",
        "                beta[i][j] += temp\n",
        "            \n",
        "            beta[i][j] *= c_t[j]\n",
        "            # c_t[j] += alpha[i][j]\n",
        "\n",
        "    \n",
        "    \n",
        "    return beta\n"
      ]
    },
    {
      "cell_type": "code",
      "execution_count": 150,
      "metadata": {
        "id": "Oymx0JSa_qZ_"
      },
      "outputs": [],
      "source": [
        "def maximization_step(alpha, beta):\n",
        "    length = len(observations)\n",
        "    global transition_matrix_updated\n",
        "    global emission_matrix_updated\n",
        "    global mu_updated\n",
        "    global sigma_updated\n",
        "\n",
        "    for i in states:\n",
        "        for j in states:\n",
        "            denominator = 0.0\n",
        "            numerator = 0.0\n",
        "            \n",
        "            for k in range(length-1):\n",
        "\n",
        "                numerator += alpha[i][k] * beta[j][k+1] * transition_matrix_updated[i][j] * emission_matrix_updated[j][k+1]\n",
        "\n",
        "                denominator += alpha[i][k] * beta[i][k] / c_t[k]\n",
        "\n",
        "            transition_matrix_updated[i][j] = numerator / denominator\n",
        "\n",
        "    # print(transition_matrix_updated)\n",
        "\n",
        "    joint_alpha_beta = alpha * beta\n",
        "\n",
        "    # print(joint_alpha_beta)\n",
        "\n",
        "    for col in range(length):\n",
        "        joint_alpha_beta[:, col] /= joint_alpha_beta[:, col].sum()\n",
        "\n",
        "    # print(joint_alpha_beta)\n",
        "\n",
        "    for st in states:\n",
        "        temp = joint_alpha_beta[st] * observations\n",
        "        mu_updated[st] = np.sum(temp) / np.sum(joint_alpha_beta[st])\n",
        "\n",
        "    # print(mu_updated)\n",
        "\n",
        "    for st in states:\n",
        "        diff = observations - mu_updated[st]\n",
        "        temp = np.sum(joint_alpha_beta[st] * diff * diff) / np.sum(joint_alpha_beta[st])\n",
        "        sigma_updated[st] = np.sqrt(temp)\n",
        "\n",
        "    # print(sigma_updated)\n",
        "\n",
        "    \n",
        "    for st in states:\n",
        "        for j in range(len(observations)):\n",
        "            emission_matrix_updated[st][j]  = gaussian_distribution(observations[j], mu_updated[st], sigma_updated[st])\n"
      ]
    },
    {
      "cell_type": "code",
      "execution_count": 151,
      "metadata": {
        "id": "6pdwBpN4_qaA"
      },
      "outputs": [],
      "source": [
        "transition_matrix_updated = []\n",
        "emission_matrix_updated = []\n",
        "mu_updated = np.array([0.0]*N)\n",
        "sigma_updated = np.array([0.0]*N)\n",
        "\n",
        "\n",
        "transition_matrix_updated = np.copy(transition_matrix)\n",
        "emission_matrix_updated = np.copy(emission_matrix)"
      ]
    },
    {
      "cell_type": "code",
      "execution_count": 152,
      "metadata": {
        "id": "bkNv4bY8_qaB"
      },
      "outputs": [],
      "source": [
        "def baum_welch():\n",
        "    \n",
        "    global transition_matrix_updated\n",
        "    global emission_matrix_updated\n",
        "    global sigma_updated\n",
        "    global mu_updated\n",
        "    global pi\n",
        "    global pi_updated\n",
        "\n",
        "    transition_temp = np.copy(transition_matrix_updated)\n",
        "    mu_temp = np.copy(mu_updated)\n",
        "    sigma_temp = np.copy(sigma_updated)\n",
        "\n",
        "    count = 0\n",
        "    for _ in range(20):\n",
        "        pi_updated = initial_prob(transition_matrix_updated)\n",
        "\n",
        "        alpha = forward_algorithm(transition_matrix_updated, emission_matrix_updated, pi_updated)\n",
        "        beta = backward_algorithm(transition_matrix_updated, emission_matrix_updated)\n",
        "        # print(beta)\n",
        "\n",
        "        maximization_step(alpha, beta)\n",
        "\n",
        "        flag1 = np.amax(transition_matrix_updated - transition_temp) < 1e-10\n",
        "        flag2 = np.amax(mu_updated - mu_temp) < 1e-10\n",
        "        flag3 = np.amax(sigma_updated - sigma_temp) < 1e-10\n",
        "\n",
        "        count += 1\n",
        "        \n",
        "        if flag1 and flag2 and flag3:\n",
        "            break\n",
        "\n",
        "        transition_temp = np.copy(transition_matrix_updated)\n",
        "        mu_temp = np.copy(mu_updated)\n",
        "        sigma_temp = np.copy(sigma_updated)\n",
        "        \n",
        "\n",
        "    print('count' ,count)\n",
        "    sigma_updated = np.power(sigma_updated, 2)\n",
        "\n",
        "    return\n"
      ]
    },
    {
      "cell_type": "code",
      "execution_count": 153,
      "metadata": {
        "id": "Si28kQH3Jlg4"
      },
      "outputs": [],
      "source": [
        "def viterbi_output(sequence, filename):\n",
        "    global real_states\n",
        "    f = open(filename, \"w\")\n",
        "\n",
        "    counts = [0]*N\n",
        "\n",
        "    for s in sequence:\n",
        "        counts[s] += 1\n",
        "        f.write('\\\"' + real_states[s] + '\\\"\\n')\n",
        "\n",
        "    f.close()\n",
        "\n",
        "    print(counts)"
      ]
    },
    {
      "cell_type": "code",
      "execution_count": 154,
      "metadata": {
        "colab": {
          "base_uri": "https://localhost:8080/"
        },
        "id": "ONXhPUah_qaC",
        "outputId": "eb306c93-3ee6-49b7-805e-8a92fdd3b3fc"
      },
      "outputs": [
        {
          "name": "stdout",
          "output_type": "stream",
          "text": [
            "[291, 709]\n",
            "[[1.02592878e+00 3.55257946e-01 3.30205665e-01 ... 3.03684775e+51\n",
            "  6.54926795e-01 1.00000000e+00]\n",
            " [3.07778633e+00 1.06577384e+00 9.90616994e-01 ... 9.11054324e+51\n",
            "  1.96478038e+00 1.00000000e+00]]\n",
            "[[1.20481750e-02 9.92182150e-01 9.87326155e-02 ... 2.96869180e-03\n",
            "  1.03317687e+01 1.00000000e+00]\n",
            " [1.74369931e-02 1.43595800e+00 1.42893005e-01 ... 4.29650619e-03\n",
            "  1.49528853e+01 1.00000000e+00]]\n",
            "[[ 1.27362551  0.26534598  0.16319855 ...  0.66213067  5.16748618\n",
            "   1.        ]\n",
            " [ 5.72439017  1.19261425  0.73350617 ...  2.97598807 23.22559255\n",
            "   1.        ]]\n",
            "[[ 6.27746252  0.28128077  0.17865792 ...  0.82239777 11.86242263\n",
            "   1.        ]\n",
            " [28.54483914  1.27903819  0.8123922  ...  3.73960212 53.94073556\n",
            "   1.        ]]\n",
            "count 4\n",
            "[[0.82795699 0.17204301]\n",
            " [0.21768707 0.78231293]]\n",
            "[150.1898689  100.20940296]\n",
            "[5.031877   8.71346514]\n",
            "[0.25 0.75]\n",
            "[0.55855856 0.44144144]\n",
            "[558, 442]\n"
          ]
        }
      ],
      "source": [
        "pi = initial_prob(transition_matrix)\n",
        "\n",
        "sequence = viterbi(observations, states, pi, transition_matrix, emission_matrix)\n",
        "\n",
        "filename = 'viterbi_wo_learning.txt'\n",
        "\n",
        "viterbi_output(sequence, filename)\n",
        "\n",
        "\n",
        "baum_welch()\n",
        "\n",
        "\n",
        "print(transition_matrix_updated)\n",
        "print(mu_updated)\n",
        "print(sigma_updated)\n",
        "print(pi)\n",
        "print(pi_updated)\n",
        "\n",
        "filename = 'parameters_learned.txt'\n",
        "f = open(filename, \"w\")\n",
        "f.write(str(N) + '\\n')\n",
        "for i in states:\n",
        "    for j in states:\n",
        "        f.write(str(round(transition_matrix_updated[i][j], 6)) + \"\\t\")\n",
        "    \n",
        "    f.write(\"\\n\")\n",
        "\n",
        "for i in states:\n",
        "    f.write(str(round(mu_updated[i], 4)) + \"\\t\")\n",
        "\n",
        "f.write(\"\\n\")\n",
        "\n",
        "for i in states:\n",
        "    f.write(str(round(sigma_updated[i], 6)) + \"\\t\")\n",
        "\n",
        "f.write(\"\\n\")\n",
        "\n",
        "for i in states:\n",
        "    f.write(str(round(pi[i], 6)) + \"\\t\")\n",
        "\n",
        "f.write(\"\\n\")\n",
        "\n",
        "for i in states:\n",
        "    f.write(str(round(pi_updated[i], 6)) + \"\\t\")\n",
        "\n",
        "f.write(\"\\n\")\n",
        "\n",
        "f.close()\n",
        "\n",
        "\n",
        "filename = \"viterbi_after_learning.txt\"\n",
        "\n",
        "sequence = viterbi(observations, states, pi, transition_matrix_updated, emission_matrix_updated)\n",
        "\n",
        "viterbi_output(sequence, filename)\n"
      ]
    }
  ],
  "metadata": {
    "colab": {
      "collapsed_sections": [],
      "name": "1605020.ipynb",
      "provenance": []
    },
    "interpreter": {
      "hash": "2be5faf79681da6f2a61fdfdd5405d65d042280f7fba6178067603e3a2925119"
    },
    "kernelspec": {
      "display_name": "Python 3.10.0 64-bit",
      "language": "python",
      "name": "python3"
    },
    "language_info": {
      "codemirror_mode": {
        "name": "ipython",
        "version": 3
      },
      "file_extension": ".py",
      "mimetype": "text/x-python",
      "name": "python",
      "nbconvert_exporter": "python",
      "pygments_lexer": "ipython3",
      "version": "3.10.0"
    },
    "orig_nbformat": 4
  },
  "nbformat": 4,
  "nbformat_minor": 0
}
