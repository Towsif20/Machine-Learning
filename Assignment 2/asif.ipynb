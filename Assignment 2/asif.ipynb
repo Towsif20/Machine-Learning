{
 "cells": [
  {
   "cell_type": "code",
   "execution_count": 39,
   "id": "8a240491",
   "metadata": {},
   "outputs": [],
   "source": [
    "import numpy as np\n",
    "import pandas as pd\n",
    "from scipy.stats import norm as gaussian\n",
    "import math"
   ]
  },
  {
   "cell_type": "code",
   "execution_count": 40,
   "id": "0310f259",
   "metadata": {},
   "outputs": [],
   "source": [
    "df = pd.read_csv('Sample input and output for HMM/Input/data.txt', header=None)\n",
    "df.columns = ['rainfall']"
   ]
  },
  {
   "cell_type": "code",
   "execution_count": 41,
   "id": "15b8cfa5",
   "metadata": {},
   "outputs": [
    {
     "data": {
      "text/html": [
       "<div>\n",
       "<style scoped>\n",
       "    .dataframe tbody tr th:only-of-type {\n",
       "        vertical-align: middle;\n",
       "    }\n",
       "\n",
       "    .dataframe tbody tr th {\n",
       "        vertical-align: top;\n",
       "    }\n",
       "\n",
       "    .dataframe thead th {\n",
       "        text-align: right;\n",
       "    }\n",
       "</style>\n",
       "<table border=\"1\" class=\"dataframe\">\n",
       "  <thead>\n",
       "    <tr style=\"text-align: right;\">\n",
       "      <th></th>\n",
       "      <th>rainfall</th>\n",
       "    </tr>\n",
       "  </thead>\n",
       "  <tbody>\n",
       "    <tr>\n",
       "      <th>0</th>\n",
       "      <td>104.524318</td>\n",
       "    </tr>\n",
       "    <tr>\n",
       "      <th>1</th>\n",
       "      <td>98.295391</td>\n",
       "    </tr>\n",
       "    <tr>\n",
       "      <th>2</th>\n",
       "      <td>101.201301</td>\n",
       "    </tr>\n",
       "    <tr>\n",
       "      <th>3</th>\n",
       "      <td>96.825882</td>\n",
       "    </tr>\n",
       "    <tr>\n",
       "      <th>4</th>\n",
       "      <td>99.777784</td>\n",
       "    </tr>\n",
       "  </tbody>\n",
       "</table>\n",
       "</div>"
      ],
      "text/plain": [
       "     rainfall\n",
       "0  104.524318\n",
       "1   98.295391\n",
       "2  101.201301\n",
       "3   96.825882\n",
       "4   99.777784"
      ]
     },
     "execution_count": 41,
     "metadata": {},
     "output_type": "execute_result"
    }
   ],
   "source": [
    "df.head()"
   ]
  },
  {
   "cell_type": "code",
   "execution_count": 42,
   "id": "d8db6d99",
   "metadata": {},
   "outputs": [],
   "source": [
    "with open('Sample input and output for HMM/Input/data.txt') as f:\n",
    "    rainfall = np.loadtxt(f)"
   ]
  },
  {
   "cell_type": "code",
   "execution_count": 43,
   "id": "020db481",
   "metadata": {},
   "outputs": [],
   "source": [
    "with open('Sample input and output for HMM/Input/parameters.txt') as f:\n",
    "    nstates = int(next(f))\n",
    "    trans_mat = np.asarray([[float(x) for x in next(f).strip().split('\\t')] for i in range(nstates)])\n",
    "    mu = np.asarray([float(x) for x in next(f).strip().split('\\t')])\n",
    "    sigma = np.asarray([float(x) for x in next(f).strip().split('\\t')])"
   ]
  },
  {
   "cell_type": "code",
   "execution_count": 44,
   "id": "a7521686",
   "metadata": {},
   "outputs": [],
   "source": [
    "emit_mat = np.asarray([[gaussian.pdf(x, loc=mu[i], scale=math.sqrt(sigma[i])) for x in rainfall] for i in range(nstates)]).T"
   ]
  },
  {
   "cell_type": "code",
   "execution_count": 53,
   "id": "920812ee",
   "metadata": {},
   "outputs": [],
   "source": [
    "def viterbi(obs, states, init_prob, trans_mat, emit_mat):\n",
    "    prev_prob = np.log(init_prob * emit_mat[0]).reshape(1, -1)\n",
    "    print(prev_prob)\n",
    "    prev_st = np.full((1, states), -1)\n",
    "    \n",
    "    for ep in emit_mat[1:]:\n",
    "#         print(np.log(trans_mat * ep))\n",
    "        probs = prev_prob[-1].reshape(-1, 1) + np.log(trans_mat * ep)\n",
    "#         print('probs:\\n', probs)\n",
    "        prev_prob = np.concatenate((prev_prob, probs.max(axis=0).reshape(1, -1)))\n",
    "#         print('prev_prob:\\n', prev_prob[-1])\n",
    "        prev_st = np.concatenate((prev_st, probs.argmax(axis=0).reshape(1, -1)))\n",
    "#         print('prev_st:\\n', prev_st[-1])\n",
    "    \n",
    "    most_likely_st = np.array([prev_prob[-1].argmax()])\n",
    "    for st in prev_st[:0:-1]:\n",
    "        most_likely_st = np.append(most_likely_st, st[most_likely_st[-1]])\n",
    "    \n",
    "    st, counts = np.unique(most_likely_st, return_counts=True)\n",
    "    \n",
    "    print(st, counts)\n",
    "    "
   ]
  },
  {
   "cell_type": "code",
   "execution_count": 54,
   "id": "4f967a88",
   "metadata": {},
   "outputs": [
    {
     "name": "stdout",
     "output_type": "stream",
     "text": [
      "init_prob:  [0.5 0.5]\n",
      "[[-458.54367416   -3.78685078]]\n",
      "[0 1] [291 709]\n"
     ]
    }
   ],
   "source": [
    "init_prob = np.full(nstates, 1/nstates)\n",
    "print('init_prob: ', init_prob)\n",
    "viterbi(rainfall, nstates, init_prob, trans_mat, emit_mat)"
   ]
  },
  {
   "cell_type": "code",
   "execution_count": 47,
   "id": "09f8bbc1",
   "metadata": {},
   "outputs": [],
   "source": [
    "y = np.array([-1, 2])"
   ]
  },
  {
   "cell_type": "code",
   "execution_count": 48,
   "id": "3a09c5d0",
   "metadata": {},
   "outputs": [
    {
     "data": {
      "text/plain": [
       "array([[0.7, 0.3],\n",
       "       [0.1, 0.9]])"
      ]
     },
     "execution_count": 48,
     "metadata": {},
     "output_type": "execute_result"
    }
   ],
   "source": [
    "trans_mat"
   ]
  },
  {
   "cell_type": "code",
   "execution_count": 49,
   "id": "07e893a8",
   "metadata": {},
   "outputs": [
    {
     "data": {
      "text/plain": [
       "array([1.43893971e-199, 4.53337453e-002])"
      ]
     },
     "execution_count": 49,
     "metadata": {},
     "output_type": "execute_result"
    }
   ],
   "source": [
    "emit_mat[0]"
   ]
  },
  {
   "cell_type": "code",
   "execution_count": null,
   "id": "2ca22cee",
   "metadata": {},
   "outputs": [],
   "source": []
  },
  {
   "cell_type": "code",
   "execution_count": null,
   "id": "a48fde87",
   "metadata": {},
   "outputs": [],
   "source": []
  },
  {
   "cell_type": "code",
   "execution_count": 50,
   "id": "c3935ce5",
   "metadata": {},
   "outputs": [
    {
     "data": {
      "text/plain": [
       "array([1, 2])"
      ]
     },
     "execution_count": 50,
     "metadata": {},
     "output_type": "execute_result"
    }
   ],
   "source": [
    "np.concatenate((np.array([[10, 20]]), np.array([[1, 2]])))[-1]"
   ]
  },
  {
   "cell_type": "code",
   "execution_count": 51,
   "id": "32adfdab",
   "metadata": {},
   "outputs": [
    {
     "data": {
      "text/plain": [
       "9"
      ]
     },
     "execution_count": 51,
     "metadata": {},
     "output_type": "execute_result"
    }
   ],
   "source": [
    "np.arange(10).argmax()"
   ]
  },
  {
   "cell_type": "code",
   "execution_count": null,
   "id": "58f8f6cb",
   "metadata": {},
   "outputs": [],
   "source": []
  }
 ],
 "metadata": {
  "interpreter": {
   "hash": "ac59ebe37160ed0dfa835113d9b8498d9f09ceb179beaac4002f036b9467c963"
  },
  "kernelspec": {
   "display_name": "venv",
   "language": "python",
   "name": "python3"
  },
  "language_info": {
   "codemirror_mode": {
    "name": "ipython",
    "version": 3
   },
   "file_extension": ".py",
   "mimetype": "text/x-python",
   "name": "python",
   "nbconvert_exporter": "python",
   "pygments_lexer": "ipython3",
   "version": "3.10.0"
  }
 },
 "nbformat": 4,
 "nbformat_minor": 5
}
